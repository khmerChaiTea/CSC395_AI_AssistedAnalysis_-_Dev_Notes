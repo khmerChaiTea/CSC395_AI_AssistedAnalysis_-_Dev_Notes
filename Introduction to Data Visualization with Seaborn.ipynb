{
 "cells": [
  {
   "cell_type": "raw",
   "id": "295220e3",
   "metadata": {},
   "source": [
    "# Import Matplotlib and Seaborn\n",
    "import matplotlib.pyplot as plt\n",
    "import seaborn as sns"
   ]
  },
  {
   "cell_type": "raw",
   "id": "f905e1fc",
   "metadata": {},
   "source": [
    "# Import Matplotlib and Seaborn\n",
    "import matplotlib.pyplot as plt\n",
    "import seaborn as sns\n",
    "\n",
    "# Create scatter plot with GDP on the x-axis and number of phones on the y-axis\n",
    "sns.scatterplot(x=gdp, y=phones)\n",
    "\n",
    "# Show plot\n",
    "plt.show()"
   ]
  },
  {
   "cell_type": "raw",
   "id": "37b13802",
   "metadata": {},
   "source": [
    "# Import Matplotlib and Seaborn\n",
    "import matplotlib.pyplot as plt\n",
    "import seaborn as sns\n",
    "\n",
    "# Change this scatter plot to have percent literate on the y-axis\n",
    "sns.scatterplot(x=gdp, y=percent_literate, s=100, alpha=0.8)\n",
    "\n",
    "# Show plot\n",
    "plt.show()"
   ]
  },
  {
   "cell_type": "raw",
   "id": "0e9e0f85",
   "metadata": {},
   "source": [
    "# Import Matplotlib and Seaborn\n",
    "import matplotlib.pyplot as plt\n",
    "import seaborn as sns\n",
    "\n",
    "# Create count plot with region on the y-axis\n",
    "sns.countplot(y=region)\n",
    "\n",
    "# Show plot\n",
    "plt.show()"
   ]
  },
  {
   "cell_type": "raw",
   "id": "963bb239",
   "metadata": {},
   "source": [
    "# Import Pandas\n",
    "import pandas as pd\n",
    "\n",
    "# Create a DataFrame from csv file\n",
    "df = pd.read_csv(csv_filepath)\n",
    "\n",
    "# Print the head of df\n",
    "print(df.head())"
   ]
  },
  {
   "cell_type": "raw",
   "id": "b5466d71",
   "metadata": {},
   "source": [
    "  Unnamed: 0               How old are you?\n",
    "0     Marion                             12\n",
    "1      Elroy                             16\n",
    "2        NaN  What is your favorite animal?\n",
    "3     Marion                            dog\n",
    "4      Elroy                            cat"
   ]
  },
  {
   "cell_type": "raw",
   "id": "c4110957",
   "metadata": {},
   "source": [
    "# Import Matplotlib, Pandas, and Seaborn\n",
    "import matplotlib.pyplot as plt\n",
    "import pandas as pd\n",
    "import seaborn as sns\n",
    "\n",
    "# Create a DataFrame from csv file\n",
    "df = pd.read_csv(csv_filepath)\n",
    "\n",
    "# Create a count plot with \"Spiders\" on the x-axis\n",
    "sns.countplot(x='Spiders', data=df)\n",
    "\n",
    "# Display the plot\n",
    "plt.show()"
   ]
  },
  {
   "cell_type": "raw",
   "id": "5d20ebd3",
   "metadata": {},
   "source": [
    "# Import Matplotlib and Seaborn\n",
    "import matplotlib.pyplot as plt\n",
    "import seaborn as sns\n",
    "\n",
    "# Create a scatter plot of absences vs. final grade\n",
    "sns.scatterplot(x='absences', y='G3', data=student_data, hue='location')\n",
    "\n",
    "# Show plot\n",
    "plt.show()"
   ]
  },
  {
   "cell_type": "raw",
   "id": "7ab99949",
   "metadata": {},
   "source": [
    "# Import Matplotlib and Seaborn\n",
    "import matplotlib.pyplot as plt\n",
    "import seaborn as sns\n",
    "\n",
    "# Change the legend order in the scatter plot\n",
    "sns.scatterplot(x=\"absences\", y=\"G3\", data=student_data, hue=\"location\", hue_order=[\"Rural\", \"Urban\"])\n",
    "\n",
    "# Show plot\n",
    "plt.show()"
   ]
  },
  {
   "cell_type": "raw",
   "id": "53fc0b4d",
   "metadata": {},
   "source": [
    "# Import Matplotlib and Seaborn\n",
    "import matplotlib.pyplot as plt\n",
    "import seaborn as sns\n",
    "\n",
    "# Create a dictionary mapping subgroup values to colors\n",
    "palette_colors = {'Rural': \"green\", 'Urban': \"blue\"}\n",
    "\n",
    "# Create a count plot of school with location subgroups\n",
    "sns.countplot(x='school',\n",
    "                data=student_data,\n",
    "                hue='location',\n",
    "                palette=palette_colors)\n",
    "\n",
    "# Display plot\n",
    "plt.show()"
   ]
  },
  {
   "cell_type": "raw",
   "id": "fed181a8",
   "metadata": {},
   "source": [
    "# Change to use relplot() instead of scatterplot()\n",
    "sns.relplot(x=\"absences\",\n",
    "            y=\"G3\",\n",
    "            data=student_data,\n",
    "            kind='scatter')\n",
    "\n",
    "# Show plot\n",
    "plt.show()"
   ]
  },
  {
   "cell_type": "raw",
   "id": "8fd44d0d",
   "metadata": {},
   "source": [
    "# Change to make subplots based on study time\n",
    "sns.relplot(x=\"absences\", y=\"G3\", \n",
    "            data=student_data,\n",
    "            kind=\"scatter\",\n",
    "            col=\"study_time\")\n",
    "\n",
    "# Show plot\n",
    "plt.show()"
   ]
  },
  {
   "cell_type": "raw",
   "id": "eb017778",
   "metadata": {},
   "source": [
    "# Change this scatter plot to arrange the plots in rows instead of columns\n",
    "sns.relplot(x=\"absences\", y=\"G3\", \n",
    "            data=student_data,\n",
    "            kind=\"scatter\", \n",
    "            row=\"study_time\")\n",
    "\n",
    "# Show plot\n",
    "plt.show()"
   ]
  },
  {
   "cell_type": "raw",
   "id": "de75d47b",
   "metadata": {},
   "source": [
    "# Adjust further to add subplots based on family support\n",
    "sns.relplot(x=\"G1\", y=\"G3\",\n",
    "            data=student_data,\n",
    "            kind=\"scatter\",\n",
    "            col=\"schoolsup\",\n",
    "            col_order=[\"yes\", \"no\"],\n",
    "            row=\"famsup\",\n",
    "            row_order=[\"yes\", \"no\"])\n",
    "\n",
    "# Show plot\n",
    "plt.show()"
   ]
  },
  {
   "cell_type": "raw",
   "id": "412037a4",
   "metadata": {},
   "source": [
    "# Adjust to add subplots based on school support\n",
    "sns.relplot(x=\"G1\", y=\"G3\", \n",
    "            data=student_data,\n",
    "            kind=\"scatter\",\n",
    "            col='schoolsup',\n",
    "            col_order=(\"yes\", 'no'))\n",
    "\n",
    "# Show plot\n",
    "plt.show()"
   ]
  },
  {
   "cell_type": "raw",
   "id": "7753b079",
   "metadata": {},
   "source": [
    "# Adjust further to add subplots based on family support\n",
    "sns.relplot(x=\"G1\", y=\"G3\",\n",
    "            data=student_data,\n",
    "            kind=\"scatter\",\n",
    "            col=\"schoolsup\",  # Separate plots into columns based on schoolsup\n",
    "            col_order=[\"yes\", \"no\"],  # Order columns by schoolsup\n",
    "            row=\"famsup\",  # Separate plots into rows based on famsup\n",
    "            row_order=[\"yes\", \"no\"],  # Order rows by famsup\n",
    "            facet_kws=dict(sharex=False, sharey=False),  # Ensure each subplot has independent axes\n",
    "            height=4,  # Height of each subplot\n",
    "            aspect=1.2)  # Aspect ratio of each subplot\n",
    "\n",
    "# Show plot\n",
    "plt.show()"
   ]
  },
  {
   "cell_type": "raw",
   "id": "d1d89e5e",
   "metadata": {},
   "source": [
    "# Import Matplotlib and Seaborn\n",
    "import matplotlib.pyplot as plt\n",
    "import seaborn as sns\n",
    "\n",
    "# Create scatter plot of horsepower vs. mpg\n",
    "sns.relplot(x=\"horsepower\",\n",
    "            y=\"mpg\",\n",
    "            data=mpg,\n",
    "            kind=\"scatter\",\n",
    "            size=\"cylinders\",\n",
    "            hue=\"cylinders\")\n",
    "\n",
    "# Show plot\n",
    "plt.show()"
   ]
  },
  {
   "cell_type": "raw",
   "id": "4c8cb873",
   "metadata": {},
   "source": [
    "import matplotlib.pyplot as plt\n",
    "import seaborn as sns\n",
    "import pandas as pd\n",
    "from sklearn.datasets import load_boston\n",
    "\n",
    "# Load example dataset (replace with your actual dataset)\n",
    "mpg = sns.load_dataset('mpg')\n",
    "\n",
    "# Create scatter plot of horsepower vs. mpg\n",
    "sns.relplot(x=\"horsepower\",\n",
    "            y=\"mpg\",\n",
    "            data=mpg,\n",
    "            kind=\"scatter\",\n",
    "            hue=\"cylinders\",  # Color points by the number of cylinders\n",
    "            palette=\"viridis\",  # Use a different color palette (optional)\n",
    "            size=\"cylinders\",  # Size points by the number of cylinders\n",
    "            sizes=(20, 200),  # Set size range for markers\n",
    "            legend=\"full\")  # Show legend with all categories of cylinders\n",
    "\n",
    "# Add title and labels\n",
    "plt.title('Horsepower vs. MPG with Cylinder Differentiation')\n",
    "plt.xlabel('Horsepower')\n",
    "plt.ylabel('MPG')\n",
    "\n",
    "# Show plot\n",
    "plt.show()"
   ]
  },
  {
   "cell_type": "raw",
   "id": "db5e2bb7",
   "metadata": {},
   "source": [
    "# Import Matplotlib and Seaborn\n",
    "import matplotlib.pyplot as plt\n",
    "import seaborn as sns\n",
    "\n",
    "# Create a scatter plot of acceleration vs. mpg\n",
    "sns.relplot(x='acceleration', y='mpg', data=mpg, kind='scatter', style='origin', hue='origin')\n",
    "\n",
    "# Show plot\n",
    "plt.show()"
   ]
  },
  {
   "cell_type": "raw",
   "id": "8b8524f0",
   "metadata": {},
   "source": [
    "# Import Matplotlib and Seaborn\n",
    "import matplotlib.pyplot as plt\n",
    "import seaborn as sns\n",
    "\n",
    "# Create line plot\n",
    "sns.relplot(x=\"model_year\",y=\"mpg\", data=mpg, kind='line')\n",
    "\n",
    "# Show plot\n",
    "plt.show()"
   ]
  },
  {
   "cell_type": "raw",
   "id": "24ce4e6d",
   "metadata": {},
   "source": [
    "# Make the shaded area show the standard deviation\n",
    "sns.relplot(x=\"model_year\", y=\"mpg\",\n",
    "            data=mpg, kind=\"line\", ci='sd')\n",
    "\n",
    "# Show plot\n",
    "plt.show()"
   ]
  },
  {
   "cell_type": "raw",
   "id": "2ee9485e",
   "metadata": {},
   "source": [
    "# Import Matplotlib and Seaborn\n",
    "import matplotlib.pyplot as plt\n",
    "import seaborn as sns\n",
    "\n",
    "# Create line plot of model year vs. horsepower\n",
    "sns.relplot(x='model_year',\n",
    "            y='horsepower',\n",
    "            data=mpg,\n",
    "            kind='line',\n",
    "            ci=None)\n",
    "\n",
    "# Show plot\n",
    "plt.show()"
   ]
  },
  {
   "cell_type": "raw",
   "id": "58c85639",
   "metadata": {},
   "source": [
    "import matplotlib.pyplot as plt\n",
    "import seaborn as sns\n",
    "import pandas as pd\n",
    "\n",
    "# Load example dataset (replace with your actual dataset)\n",
    "mpg = sns.load_dataset('mpg')\n",
    "\n",
    "# Create line plot of model year vs. horsepower, with different lines for each origin\n",
    "sns.relplot(x='model_year',\n",
    "            y='horsepower',\n",
    "            data=mpg,\n",
    "            kind='line',\n",
    "            hue='origin',  # Color lines by the country of origin\n",
    "            style='origin',  # Differentiate lines by the country of origin\n",
    "            markers=True,  # Use markers to distinguish points on the lines\n",
    "            height=6,  # Height of the plot\n",
    "            aspect=1.5,  # Aspect ratio of the plot\n",
    "            ci=None)  # Disable confidence intervals for the lines\n",
    "\n",
    "# Add title and labels\n",
    "plt.title('Model Year vs. Horsepower by Origin')\n",
    "plt.xlabel('Model Year')\n",
    "plt.ylabel('Horsepower')\n",
    "\n",
    "# Show legend\n",
    "plt.legend(title='Origin')\n",
    "\n",
    "# Show plot\n",
    "plt.show()"
   ]
  },
  {
   "cell_type": "raw",
   "id": "e45811d8",
   "metadata": {},
   "source": [
    "import matplotlib.pyplot as plt\n",
    "import seaborn as sns\n",
    "import pandas as pd\n",
    "\n",
    "# Load example dataset (replace with your actual dataset)\n",
    "mpg = sns.load_dataset('mpg')\n",
    "\n",
    "# Create line plot of model year vs. horsepower, with different lines for each origin\n",
    "sns.relplot(x='model_year',\n",
    "            y='horsepower',\n",
    "            data=mpg,\n",
    "            kind='line',\n",
    "            hue='origin',  # Color lines by the country of origin\n",
    "            style='origin',  # Differentiate lines by the country of origin\n",
    "            markers=True,  # Use markers to distinguish points on the lines\n",
    "            dashes=False,  # Use solid lines for all countries\n",
    "            height=6,  # Height of the plot\n",
    "            aspect=1.5,  # Aspect ratio of the plot\n",
    "            ci=None)  # Disable confidence intervals for the lines\n",
    "\n",
    "# Add title and labels\n",
    "plt.title('Model Year vs. Horsepower by Origin')\n",
    "plt.xlabel('Model Year')\n",
    "plt.ylabel('Horsepower')\n",
    "\n",
    "# Show legend\n",
    "plt.legend(title='Origin')\n",
    "\n",
    "# Show plot\n",
    "plt.show()\n"
   ]
  },
  {
   "cell_type": "raw",
   "id": "ae47c05e",
   "metadata": {},
   "source": [
    "# Create count plot of internet usage\n",
    "sns.catplot(x='Internet usage', data=survey_data, kind='count')\n",
    "\n",
    "# Show plot\n",
    "plt.show()"
   ]
  },
  {
   "cell_type": "raw",
   "id": "25c2e216",
   "metadata": {},
   "source": [
    "# Change the orientation of the plot\n",
    "sns.catplot(y=\"Internet usage\", data=survey_data,\n",
    "            kind=\"count\")\n",
    "\n",
    "# Show plot\n",
    "plt.show()"
   ]
  },
  {
   "cell_type": "raw",
   "id": "269c5950",
   "metadata": {},
   "source": [
    "# Separate into column subplots based on age category\n",
    "sns.catplot(y=\"Internet usage\", data=survey_data,\n",
    "            kind=\"count\",\n",
    "             col=\"Age Category\")\n",
    "\n",
    "# Show plot\n",
    "plt.show()"
   ]
  },
  {
   "cell_type": "raw",
   "id": "fb97e6c5",
   "metadata": {},
   "source": [
    "# Create a bar plot of interest in math, separated by gender\n",
    "sns.catplot(x='Gender',\n",
    "            y='Interested in Math',\n",
    "            data=survey_data,\n",
    "            kind='bar')\n",
    "\n",
    "# Show plot\n",
    "plt.show()"
   ]
  },
  {
   "cell_type": "raw",
   "id": "ecb9f13c",
   "metadata": {},
   "source": [
    "# Create bar plot of average final grade in each study category\n",
    "sns.catplot(x='study_time',\n",
    "            y='G3',\n",
    "            data=student_data,\n",
    "            kind='bar')\n",
    "\n",
    "# Show plot\n",
    "plt.show()"
   ]
  },
  {
   "cell_type": "raw",
   "id": "29f27fdb",
   "metadata": {},
   "source": [
    "# List of categories from lowest to highest\n",
    "category_order = [\"<2 hours\", \n",
    "                  \"2 to 5 hours\", \n",
    "                  \"5 to 10 hours\", \n",
    "                  \">10 hours\"]\n",
    "\n",
    "# Rearrange the categories\n",
    "sns.catplot(x=\"study_time\", y=\"G3\",\n",
    "            data=student_data,\n",
    "            kind=\"bar\",\n",
    "            order=category_order)\n",
    "\n",
    "# Show plot\n",
    "plt.show()"
   ]
  },
  {
   "cell_type": "raw",
   "id": "3358d528",
   "metadata": {},
   "source": [
    "# List of categories from lowest to highest\n",
    "category_order = [\"<2 hours\", \n",
    "                  \"2 to 5 hours\", \n",
    "                  \"5 to 10 hours\", \n",
    "                  \">10 hours\"]\n",
    "\n",
    "# Turn off the confidence intervals\n",
    "sns.catplot(x=\"study_time\", y=\"G3\",\n",
    "            data=student_data,\n",
    "            kind=\"bar\",\n",
    "            order=category_order,\n",
    "            ci=None)\n",
    "\n",
    "# Show plot\n",
    "plt.show()"
   ]
  },
  {
   "cell_type": "raw",
   "id": "b5f6ec63",
   "metadata": {},
   "source": [
    "# Specify the category ordering\n",
    "study_time_order = [\"<2 hours\", \"2 to 5 hours\",\n",
    "                    \"5 to 10 hours\", \">10 hours\"]\n",
    "\n",
    "# Create a box plot and set the order of the categories\n",
    "sns.catplot(x='study_time',\n",
    "            y='G3',\n",
    "            data=student_data,\n",
    "            kind='box',\n",
    "            order=study_time_order)\n",
    "\n",
    "# Show plot\n",
    "plt.show()"
   ]
  },
  {
   "cell_type": "raw",
   "id": "cf27502c",
   "metadata": {},
   "source": [
    "# Create a box plot with subgroups and omit the outliers\n",
    "sns.catplot(x='internet',\n",
    "            y='G3',\n",
    "            data=student_data,\n",
    "            kind='box',\n",
    "            col='location',\n",
    "            hue='location',\n",
    "            sym='')\n",
    "\n",
    "# Show plot\n",
    "plt.show()"
   ]
  },
  {
   "cell_type": "raw",
   "id": "a48abd8d",
   "metadata": {},
   "source": [
    "# Set the whiskers at the min and max values\n",
    "sns.catplot(x=\"romantic\", y=\"G3\",\n",
    "            data=student_data,\n",
    "            kind=\"box\",\n",
    "            whis=[0, 100])\n",
    "\n",
    "# Show plot\n",
    "plt.show()"
   ]
  },
  {
   "cell_type": "raw",
   "id": "2272d674",
   "metadata": {},
   "source": [
    "# Extend the whiskers to the 5th and 95th percentile\n",
    "sns.catplot(x=\"romantic\", y=\"G3\",\n",
    "            data=student_data,\n",
    "            kind=\"box\",\n",
    "            whis=[5,95])\n",
    "\n",
    "# Show plot\n",
    "plt.show()"
   ]
  },
  {
   "cell_type": "raw",
   "id": "b0cf8216",
   "metadata": {},
   "source": [
    "# Set the whiskers at the min and max values\n",
    "sns.catplot(x=\"romantic\", y=\"G3\",\n",
    "            data=student_data,\n",
    "            kind=\"box\",\n",
    "            whis=[0, 100])\n",
    "\n",
    "# Show plot\n",
    "plt.show()"
   ]
  },
  {
   "cell_type": "raw",
   "id": "c4133c23",
   "metadata": {},
   "source": [
    "# Create a point plot of family relationship vs. absences\n",
    "sns.catplot(x='famrel',\n",
    "            y='absences',\n",
    "            data=student_data,\n",
    "            kind='point')\n",
    "\n",
    "# Show plot\n",
    "plt.show()"
   ]
  },
  {
   "cell_type": "raw",
   "id": "a42b8c34",
   "metadata": {},
   "source": [
    "# Add caps to the confidence interval\n",
    "sns.catplot(x=\"famrel\", y=\"absences\",\n",
    "\t\t\tdata=student_data,\n",
    "            kind=\"point\",\n",
    "            capsize=0.2)\n",
    "        \n",
    "# Show plot\n",
    "plt.show()"
   ]
  },
  {
   "cell_type": "raw",
   "id": "8ee334d0",
   "metadata": {},
   "source": [
    "# Remove the lines joining the points\n",
    "sns.catplot(x=\"famrel\", y=\"absences\",\n",
    "\t\t\tdata=student_data,\n",
    "            kind=\"point\",\n",
    "            capsize=0.2,\n",
    "            join=False)\n",
    "            \n",
    "# Show plot\n",
    "plt.show()"
   ]
  },
  {
   "cell_type": "raw",
   "id": "f94a7af4",
   "metadata": {},
   "source": [
    "# Import median function from numpy\n",
    "from numpy import median\n",
    "\n",
    "# Plot the median number of absences instead of the mean\n",
    "sns.catplot(x=\"romantic\", y=\"absences\",\n",
    "\t\t\tdata=student_data,\n",
    "            kind=\"point\",\n",
    "            hue=\"school\",\n",
    "            ci=None,\n",
    "            estimator=median)\n",
    "\n",
    "# Show plot\n",
    "plt.show()"
   ]
  },
  {
   "cell_type": "raw",
   "id": "70981883",
   "metadata": {},
   "source": [
    "# Turn off the confidence intervals for this plot\n",
    "sns.catplot(x=\"romantic\", y=\"absences\",\n",
    "\t\t\tdata=student_data,\n",
    "            kind=\"point\",\n",
    "            hue=\"school\",\n",
    "            ci=None)\n",
    "\n",
    "# Show plot\n",
    "plt.show()"
   ]
  },
  {
   "cell_type": "raw",
   "id": "c08150ec",
   "metadata": {},
   "source": [
    "# Import median function from numpy\n",
    "from numpy import median\n",
    "\n",
    "# Plot the median number of absences instead of the mean\n",
    "sns.catplot(x=\"romantic\", y=\"absences\",\n",
    "\t\t\tdata=student_data,\n",
    "            kind=\"point\",\n",
    "            hue=\"school\",\n",
    "            ci=None,\n",
    "            estimator=median)\n",
    "\n",
    "# Show plot\n",
    "plt.show()"
   ]
  },
  {
   "cell_type": "raw",
   "id": "bbd8b2e4",
   "metadata": {},
   "source": [
    "# Set the style to \"whitegrid\"\n",
    "sns.set_style('whitegrid')\n",
    "\n",
    "# Create a count plot of survey responses\n",
    "category_order = [\"Never\", \"Rarely\", \"Sometimes\",\n",
    "                  \"Often\", \"Always\"]\n",
    "\n",
    "sns.catplot(x=\"Parents Advice\",\n",
    "            data=survey_data,\n",
    "            kind=\"count\",\n",
    "            order=category_order)\n",
    "\n",
    "# Show plot\n",
    "plt.show()"
   ]
  },
  {
   "cell_type": "raw",
   "id": "37161ddb",
   "metadata": {},
   "source": [
    "# Change the color palette to \"RdBu\"\n",
    "sns.set_style(\"whitegrid\")\n",
    "sns.set_palette(\"Purples\")\n",
    "\n",
    "# Create a count plot of survey responses\n",
    "category_order = [\"Never\", \"Rarely\", \"Sometimes\", \n",
    "                  \"Often\", \"Always\"]\n",
    "\n",
    "sns.catplot(x=\"Parents Advice\", \n",
    "            data=survey_data, \n",
    "            kind=\"count\", \n",
    "            order=category_order)\n",
    "\n",
    "# Show plot\n",
    "plt.show()"
   ]
  },
  {
   "cell_type": "raw",
   "id": "ee66b613",
   "metadata": {},
   "source": [
    "# Change the color palette to \"RdBu\"\n",
    "sns.set_style(\"whitegrid\")\n",
    "sns.set_palette(\"RdBu\")\n",
    "\n",
    "# Create a count plot of survey responses\n",
    "category_order = [\"Never\", \"Rarely\", \"Sometimes\", \n",
    "                  \"Often\", \"Always\"]\n",
    "\n",
    "sns.catplot(x=\"Parents Advice\", \n",
    "            data=survey_data, \n",
    "            kind=\"count\", \n",
    "            order=category_order)\n",
    "\n",
    "# Show plot\n",
    "plt.show()"
   ]
  },
  {
   "cell_type": "raw",
   "id": "9fd82e8f",
   "metadata": {},
   "source": [
    "# Set the context to \"paper\"\n",
    "sns.set_context('paper')\n",
    "# sns.set_context('notebook')\n",
    "# sns.set_context('talk')\n",
    "# sns.set_context('poster')\n",
    "\n",
    "# Create bar plot\n",
    "sns.catplot(x=\"Number of Siblings\", y=\"Feels Lonely\",\n",
    "            data=survey_data, kind=\"bar\")\n",
    "\n",
    "# Show plot\n",
    "plt.show()"
   ]
  },
  {
   "cell_type": "raw",
   "id": "613dbe3d",
   "metadata": {},
   "source": [
    "# Change the context to \"notebook\"\n",
    "sns.set_context(\"notebook\")\n",
    "\n",
    "# Create bar plot\n",
    "sns.catplot(x=\"Number of Siblings\", y=\"Feels Lonely\",\n",
    "            data=survey_data, kind=\"bar\")\n",
    "\n",
    "# Show plot\n",
    "plt.show()"
   ]
  },
  {
   "cell_type": "raw",
   "id": "a72372bb",
   "metadata": {},
   "source": [
    "# Change the context to \"talk\"\n",
    "sns.set_context(\"talk\")\n",
    "\n",
    "# Create bar plot\n",
    "sns.catplot(x=\"Number of Siblings\", y=\"Feels Lonely\",\n",
    "            data=survey_data, kind=\"bar\")\n",
    "\n",
    "# Show plot\n",
    "plt.show()"
   ]
  },
  {
   "cell_type": "raw",
   "id": "85dcda12",
   "metadata": {},
   "source": [
    "# Change the context to \"poster\"\n",
    "sns.set_context(\"poster\")\n",
    "\n",
    "# Create bar plot\n",
    "sns.catplot(x=\"Number of Siblings\", y=\"Feels Lonely\",\n",
    "            data=survey_data, kind=\"bar\")\n",
    "\n",
    "# Show plot\n",
    "plt.show()"
   ]
  },
  {
   "cell_type": "raw",
   "id": "6aaf49fa",
   "metadata": {},
   "source": [
    "# Set the style to \"darkgrid\"\n",
    "sns.set_style(\"darkgrid\")\n",
    "\n",
    "# Set a custom color palette\n",
    "sns.set_palette([\"#39A7D0\", \"#36ADA4\"])\n",
    "\n",
    "# Create the box plot of age distribution by gender\n",
    "sns.catplot(x=\"Gender\",\n",
    "            y=\"Age\",\n",
    "            data=survey_data,\n",
    "            kind=\"box\")\n",
    "\n",
    "# Show plot\n",
    "plt.show()"
   ]
  },
  {
   "cell_type": "raw",
   "id": "25d52c02",
   "metadata": {},
   "source": [
    "# Create scatter plot\n",
    "g = sns.relplot(x=\"weight\",\n",
    "                y=\"horsepower\",\n",
    "                data=mpg,\n",
    "                kind=\"scatter\")\n",
    "\n",
    "# Identify plot type\n",
    "type_of_g = type(g)\n",
    "\n",
    "# Print type\n",
    "print(type_of_g)"
   ]
  },
  {
   "cell_type": "raw",
   "id": "a7904b1a",
   "metadata": {},
   "source": [
    "# Create scatter plot\n",
    "g = sns.relplot(x=\"weight\",\n",
    "                y=\"horsepower\",\n",
    "                data=mpg,\n",
    "                kind=\"scatter\")\n",
    "\n",
    "# Add a title \"Car Weight vs. Horsepower\"\n",
    "g.fig.suptitle(\"Car Weight vs. Horsepower\")\n",
    "\n",
    "# Show plot\n",
    "plt.show()"
   ]
  },
  {
   "cell_type": "raw",
   "id": "b8ed6212",
   "metadata": {},
   "source": [
    "# Create line plot\n",
    "g = sns.lineplot(x=\"model_year\", y=\"mpg_mean\",\n",
    "                 data=mpg_mean,\n",
    "                 hue=\"origin\")\n",
    "\n",
    "# Add a title \"Average MPG Over Time\"\n",
    "g.set_title(\"Average MPG Over Time\")\n",
    "\n",
    "# Show plot\n",
    "plt.show()"
   ]
  },
  {
   "cell_type": "raw",
   "id": "31b763f6",
   "metadata": {},
   "source": [
    "# Create line plot\n",
    "g = sns.lineplot(x=\"model_year\", y=\"mpg_mean\", \n",
    "                 data=mpg_mean,\n",
    "                 hue=\"origin\")\n",
    "\n",
    "# Add a title \"Average MPG Over Time\"\n",
    "g.set_title(\"Average MPG Over Time\")\n",
    "\n",
    "# Add x-axis and y-axis labels\n",
    "g.set(xlabel=\"Car Model Year\",\n",
    "ylabel=\"Average MPG\")\n",
    "\n",
    "\n",
    "# Show plot\n",
    "plt.show()"
   ]
  },
  {
   "cell_type": "raw",
   "id": "7d3aa97d",
   "metadata": {},
   "source": [
    "# Create point plot\n",
    "sns.catplot(x=\"origin\",\n",
    "            y=\"acceleration\",\n",
    "            data=mpg,\n",
    "            kind=\"point\",\n",
    "            join=False,\n",
    "            capsize=0.1)\n",
    "\n",
    "# Rotate x-tick labels\n",
    "plt.xticks(rotation=90)\n",
    "\n",
    "# Show plot\n",
    "plt.show()"
   ]
  },
  {
   "cell_type": "raw",
   "id": "a814f393",
   "metadata": {},
   "source": [
    "# Set palette to \"Blues\"\n",
    "sns.set_palette(\"Blues\")\n",
    "\n",
    "# Adjust to add subgroups based on \"Interested in Pets\"\n",
    "g = sns.catplot(x=\"Gender\",\n",
    "                y=\"Age\",\n",
    "                data=survey_data,\n",
    "                kind=\"box\",\n",
    "                hue=\"Interested in Pets\")\n",
    "\n",
    "# Set title to \"Age of Those Interested in Pets vs. Not\"\n",
    "g.fig.suptitle(\"Age of Those Interested in Pets vs. Not\")\n",
    "\n",
    "# Show plot\n",
    "plt.show()"
   ]
  },
  {
   "cell_type": "raw",
   "id": "60f0ee42",
   "metadata": {},
   "source": [
    "# Set the figure style to \"dark\"\n",
    "sns.set_style(\"dark\")\n",
    "\n",
    "# Adjust to add subplots per gender\n",
    "g = sns.catplot(x=\"Village - town\",\n",
    "                y=\"Likes Techno\",\n",
    "                data=survey_data,\n",
    "                kind=\"bar\",\n",
    "                col=\"Gender\")\n",
    "\n",
    "# Add title and axis labels\n",
    "g.fig.suptitle(\"Percentage of Young People Who Like Techno\", y=1.02)\n",
    "g.set(xlabel=\"Location of Residence\",\n",
    "       ylabel=\"% Who Like Techno\")\n",
    "\n",
    "# Show plot\n",
    "plt.show()"
   ]
  },
  {
   "cell_type": "code",
   "execution_count": null,
   "id": "46f2bfcd",
   "metadata": {},
   "outputs": [],
   "source": []
  }
 ],
 "metadata": {
  "kernelspec": {
   "display_name": "Python 3 (ipykernel)",
   "language": "python",
   "name": "python3"
  },
  "language_info": {
   "codemirror_mode": {
    "name": "ipython",
    "version": 3
   },
   "file_extension": ".py",
   "mimetype": "text/x-python",
   "name": "python",
   "nbconvert_exporter": "python",
   "pygments_lexer": "ipython3",
   "version": "3.11.7"
  }
 },
 "nbformat": 4,
 "nbformat_minor": 5
}

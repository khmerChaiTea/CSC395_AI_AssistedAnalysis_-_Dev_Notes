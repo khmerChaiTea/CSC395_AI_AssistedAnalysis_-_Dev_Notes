{
 "cells": [
  {
   "cell_type": "raw",
   "id": "d9a4c8d7",
   "metadata": {},
   "source": [
    "# Print the first five rows of unemployment\n",
    "print(unemployment.head())"
   ]
  },
  {
   "cell_type": "raw",
   "id": "c90c5f7d",
   "metadata": {},
   "source": [
    "  country_code          country_name      continent   2010   2011  ...   2017   2018   2019   2020   2021\n",
    "0          AFG           Afghanistan           Asia  11.35  11.05  ...  11.18  11.15  11.22  11.71  13.28\n",
    "1          AGO                Angola         Africa   9.43   7.36  ...   7.41   7.42   7.42   8.33   8.53\n",
    "2          ALB               Albania         Europe  14.09  13.48  ...  13.62  12.30  11.47  13.33  11.82\n",
    "3          ARE  United Arab Emirates           Asia   2.48   2.30  ...   2.46   2.35   2.23   3.19   3.36\n",
    "4          ARG             Argentina  South America   7.71   7.18  ...   8.35   9.22   9.84  11.46  10.90\n",
    "\n",
    "[5 rows x 15 columns]"
   ]
  },
  {
   "cell_type": "raw",
   "id": "2ce62936",
   "metadata": {},
   "source": [
    "# Print a summary of non-missing values and data types in the unemployment DataFrame\n",
    "print(unemployment.info())"
   ]
  },
  {
   "cell_type": "raw",
   "id": "d94316df",
   "metadata": {},
   "source": [
    "<class 'pandas.core.frame.DataFrame'>\n",
    "RangeIndex: 182 entries, 0 to 181\n",
    "Data columns (total 15 columns):\n",
    " #   Column        Non-Null Count  Dtype  \n",
    "---  ------        --------------  -----  \n",
    " 0   country_code  182 non-null    object \n",
    " 1   country_name  182 non-null    object \n",
    " 2   continent     177 non-null    object \n",
    " 3   2010          182 non-null    float64\n",
    " 4   2011          182 non-null    float64\n",
    " 5   2012          182 non-null    float64\n",
    " 6   2013          182 non-null    float64\n",
    " 7   2014          182 non-null    float64\n",
    " 8   2015          182 non-null    float64\n",
    " 9   2016          182 non-null    float64\n",
    " 10  2017          182 non-null    float64\n",
    " 11  2018          182 non-null    float64\n",
    " 12  2019          182 non-null    float64\n",
    " 13  2020          182 non-null    float64\n",
    " 14  2021          182 non-null    float64\n",
    "dtypes: float64(12), object(3)\n",
    "memory usage: 21.5+ KB\n",
    "None"
   ]
  },
  {
   "cell_type": "raw",
   "id": "2a7b69d9",
   "metadata": {},
   "source": [
    "# Print summary statistics for numerical columns in unemployment\n",
    "print(unemployment.describe())"
   ]
  },
  {
   "cell_type": "raw",
   "id": "78b67182",
   "metadata": {},
   "source": [
    "          2010     2011     2012     2013     2014  ...     2017     2018     2019     2020     2021\n",
    "count  182.000  182.000  182.000  182.000  182.000  ...  182.000  182.000  182.000  182.000  182.000\n",
    "mean     8.409    8.315    8.318    8.345    8.180  ...    7.669    7.426    7.244    8.421    8.391\n",
    "std      6.249    6.267    6.367    6.416    6.284  ...    5.902    5.819    5.697    6.041    6.067\n",
    "min      0.450    0.320    0.480    0.250    0.200  ...    0.140    0.110    0.100    0.210    0.260\n",
    "25%      4.015    3.775    3.743    3.692    3.625  ...    3.690    3.625    3.487    4.285    4.335\n",
    "50%      6.965    6.805    6.690    6.395    6.450  ...    5.650    5.375    5.240    6.695    6.425\n",
    "75%     10.957   11.045   11.285   11.310   10.695  ...   10.315    9.258    9.445   11.155   10.840\n",
    "max     32.020   31.380   31.020   29.000   28.030  ...   27.040   26.910   28.470   29.220   33.560\n",
    "\n",
    "[8 rows x 12 columns]"
   ]
  },
  {
   "cell_type": "raw",
   "id": "bbb5c519",
   "metadata": {},
   "source": [
    "# Count the values associated with each continent in unemployment\n",
    "print(unemployment['continent'].value_counts())"
   ]
  },
  {
   "cell_type": "raw",
   "id": "5d5d5f97",
   "metadata": {},
   "source": [
    "Africa           53\n",
    "Asia             47\n",
    "Europe           39\n",
    "North America    18\n",
    "South America    12\n",
    "Oceania           8\n",
    "Name: continent, dtype: int64"
   ]
  },
  {
   "cell_type": "raw",
   "id": "85232869",
   "metadata": {},
   "source": [
    "# Import the required visualization libraries\n",
    "import seaborn as sns\n",
    "import matplotlib.pyplot as plt\n",
    "\n",
    "# Create a histogram of 2021 unemployment; show a full percent in each bin\n",
    "sns.histplot(data=unemployment, x='2021', binwidth=1, kde=False)\n",
    "plt.show()"
   ]
  },
  {
   "cell_type": "raw",
   "id": "44032456",
   "metadata": {},
   "source": [
    "# Update the data type of the 2019 column to a float\n",
    "unemployment[\"2019\"] = unemployment['2019'].astype(float)\n",
    "# Print the dtypes to check your work\n",
    "print(unemployment.dtypes)"
   ]
  },
  {
   "cell_type": "raw",
   "id": "9140576f",
   "metadata": {},
   "source": [
    "country_code     object\n",
    "country_name     object\n",
    "continent        object\n",
    "2010            float64\n",
    "2011            float64\n",
    "2012            float64\n",
    "2013            float64\n",
    "2014            float64\n",
    "2015            float64\n",
    "2016            float64\n",
    "2017            float64\n",
    "2018            float64\n",
    "2019            float64\n",
    "2020            float64\n",
    "2021            float64\n",
    "dtype: object"
   ]
  },
  {
   "cell_type": "raw",
   "id": "bd55f3c9",
   "metadata": {},
   "source": [
    "# Define a Series describing whether each continent is outside of Oceania\n",
    "not_oceania = ~unemployment['continent'].isin(['Oceania'])"
   ]
  },
  {
   "cell_type": "raw",
   "id": "6fa0eac7",
   "metadata": {},
   "source": [
    "# Define a Series describing whether each continent is outside of Oceania\n",
    "not_oceania = ~unemployment[\"continent\"].isin([\"Oceania\"])\n",
    "\n",
    "# Print unemployment without records related to countries in Oceania\n",
    "print(unemployment[not_oceania])"
   ]
  },
  {
   "cell_type": "raw",
   "id": "a6c6db7e",
   "metadata": {},
   "source": [
    "    country_code          country_name      continent   2010   2011  ...   2017   2018   2019   2020   2021\n",
    "0            AFG           Afghanistan           Asia  11.35  11.05  ...  11.18  11.15  11.22  11.71  13.28\n",
    "1            AGO                Angola         Africa   9.43   7.36  ...   7.41   7.42   7.42   8.33   8.53\n",
    "2            ALB               Albania         Europe  14.09  13.48  ...  13.62  12.30  11.47  13.33  11.82\n",
    "3            ARE  United Arab Emirates           Asia   2.48   2.30  ...   2.46   2.35   2.23   3.19   3.36\n",
    "4            ARG             Argentina  South America   7.71   7.18  ...   8.35   9.22   9.84  11.46  10.90\n",
    "..           ...                   ...            ...    ...    ...  ...    ...    ...    ...    ...    ...\n",
    "175          VNM               Vietnam           Asia   1.11   1.00  ...   1.87   1.16   2.04   2.39   2.17\n",
    "178          YEM           Yemen, Rep.           Asia  12.83  13.23  ...  13.30  13.15  13.06  13.39  13.57\n",
    "179          ZAF          South Africa         Africa  24.68  24.64  ...  27.04  26.91  28.47  29.22  33.56\n",
    "180          ZMB                Zambia         Africa  13.19  10.55  ...  11.63  12.01  12.52  12.85  13.03\n",
    "181          ZWE              Zimbabwe         Africa   5.21   5.37  ...   4.78   4.80   4.83   5.35   5.17\n",
    "\n",
    "[174 rows x 15 columns]"
   ]
  },
  {
   "cell_type": "raw",
   "id": "6ef6a84b",
   "metadata": {},
   "source": [
    "# Print the minimum and maximum unemployment rates during 2021\n",
    "print(unemployment['2021'].min(), unemployment['2021'].max())\n",
    "\n",
    "# Create a boxplot of 2021 unemployment rates, broken down by continent\n",
    "sns.boxplot(x='2021', y='continent', data=unemployment)\n",
    "plt.show()"
   ]
  },
  {
   "cell_type": "raw",
   "id": "22236d4f",
   "metadata": {},
   "source": [
    "# Print the mean and standard deviation of rates by year\n",
    "print(unemployment.loc[:, '2010':'2021'].agg(['mean', 'std']))"
   ]
  },
  {
   "cell_type": "raw",
   "id": "bbde16f0",
   "metadata": {},
   "source": [
    "       2010   2011   2012   2013   2014  ...   2017   2018   2019   2020   2021\n",
    "mean  8.409  8.315  8.318  8.345  8.180  ...  7.669  7.426  7.244  8.421  8.391\n",
    "std   6.249  6.267  6.367  6.416  6.284  ...  5.902  5.819  5.697  6.041  6.067\n",
    "\n",
    "[2 rows x 12 columns]"
   ]
  },
  {
   "cell_type": "raw",
   "id": "cba9b27e",
   "metadata": {},
   "source": [
    "# Print yearly mean and standard deviation grouped by continent\n",
    "print(unemployment.groupby('continent').agg(['mean', 'std']).loc[:, '2010':'2021'])"
   ]
  },
  {
   "cell_type": "raw",
   "id": "2cbb8022",
   "metadata": {},
   "source": [
    "                 2010           2011           2012  ...   2019    2020           2021       \n",
    "                 mean    std    mean    std    mean  ...    std    mean    std    mean    std\n",
    "continent                                            ...                                     \n",
    "Africa          9.344  7.411   9.369  7.402   9.241  ...  7.455  10.308  7.928  10.474  8.132\n",
    "Asia            6.241  5.146   5.942  4.780   5.835  ...  5.254   7.012  5.700   6.906  5.415\n",
    "Europe         11.008  6.392  10.948  6.540  11.326  ...  4.125   7.471  4.071   7.415  3.948\n",
    "North America   8.663  5.116   8.563  5.377   8.449  ...  4.770   9.298  4.963   9.155  5.076\n",
    "Oceania         3.623  2.055   3.647  2.008   4.104  ...  2.369   4.274  2.617   4.280  2.672\n",
    "South America   6.871  2.807   6.518  2.802   6.411  ...  3.380  10.275  3.411   9.924  3.612\n",
    "\n",
    "[6 rows x 24 columns]"
   ]
  },
  {
   "cell_type": "raw",
   "id": "34de3539",
   "metadata": {},
   "source": [
    "continent_summary = unemployment.groupby(\"continent\").agg(\n",
    "    # Create the mean_rate_2021 column\n",
    "    mean_rate_2021=('2021', 'mean'),\n",
    "    # Create the std_rate_2021 column\n",
    "    std_rate_2021=('2021', 'std')\n",
    ")\n",
    "print(continent_summary)"
   ]
  },
  {
   "cell_type": "raw",
   "id": "340e52b3",
   "metadata": {},
   "source": [
    "               mean_rate_2021  std_rate_2021\n",
    "continent                                   \n",
    "Africa                 10.474          8.132\n",
    "Asia                    6.906          5.415\n",
    "Europe                  7.415          3.948\n",
    "North America           9.155          5.076\n",
    "Oceania                 4.280          2.672\n",
    "South America           9.924          3.612"
   ]
  },
  {
   "cell_type": "raw",
   "id": "3367d769",
   "metadata": {},
   "source": [
    "# Create a bar plot of continents and their average unemployment\n",
    "sns.barplot(data=unemployment,x=\"continent\",y=\"2021\")\n",
    "plt.show()"
   ]
  },
  {
   "cell_type": "raw",
   "id": "f597451f",
   "metadata": {},
   "source": [
    "# Count the number of missing values in each column\n",
    "print(planes.isna().sum())"
   ]
  },
  {
   "cell_type": "raw",
   "id": "0d9892d7",
   "metadata": {},
   "source": [
    "Airline            427\n",
    "Date_of_Journey    322\n",
    "Source             187\n",
    "Destination        347\n",
    "Route              256\n",
    "Dep_Time           260\n",
    "Arrival_Time       194\n",
    "Duration           214\n",
    "Total_Stops        212\n",
    "Additional_Info    589\n",
    "Price              616\n",
    "dtype: int64"
   ]
  },
  {
   "cell_type": "raw",
   "id": "9c268b7d",
   "metadata": {},
   "source": [
    "# Count the number of missing values in each column\n",
    "print(planes.isna().sum())\n",
    "\n",
    "# Find the five percent threshold\n",
    "threshold = planes.shape[0] * 0.05"
   ]
  },
  {
   "cell_type": "raw",
   "id": "bc8bb0d4",
   "metadata": {},
   "source": [
    "<script.py> output:\n",
    "    Airline            427\n",
    "    Date_of_Journey    322\n",
    "    Source             187\n",
    "    Destination        347\n",
    "    Route              256\n",
    "    Dep_Time           260\n",
    "    Arrival_Time       194\n",
    "    Duration           214\n",
    "    Total_Stops        212\n",
    "    Additional_Info    589\n",
    "    Price              616\n",
    "    dtype: int64"
   ]
  },
  {
   "cell_type": "raw",
   "id": "17e7878c",
   "metadata": {},
   "source": [
    "# Count the number of missing values in each column\n",
    "print(planes.isna().sum())\n",
    "\n",
    "# Find the five percent threshold\n",
    "threshold = len(planes) * 0.05\n",
    "\n",
    "# Create a filter\n",
    "# Create cols_to_drop by applying boolean indexing to columns of the DataFrame with missing values less than or equal to the threshold.\n",
    "cols_to_drop = planes.columns[planes.isna().sum()<= threshold]\n",
    "\n",
    "\n",
    "# Drop missing values for columns below the threshold\n",
    "planes.dropna(subset=cols_to_drop, inplace=True)\n",
    "\n",
    "print(planes.isna().sum())"
   ]
  },
  {
   "cell_type": "raw",
   "id": "07be1f51",
   "metadata": {},
   "source": [
    "<script.py> output:\n",
    "    Airline            427\n",
    "    Date_of_Journey    322\n",
    "    Source             187\n",
    "    Destination        347\n",
    "    Route              256\n",
    "    Dep_Time           260\n",
    "    Arrival_Time       194\n",
    "    Duration           214\n",
    "    Total_Stops        212\n",
    "    Additional_Info    589\n",
    "    Price              616\n",
    "    dtype: int64\n",
    "    Airline              0\n",
    "    Date_of_Journey      0\n",
    "    Source               0\n",
    "    Destination          0\n",
    "    Route                0\n",
    "    Dep_Time             0\n",
    "    Arrival_Time         0\n",
    "    Duration             0\n",
    "    Total_Stops          0\n",
    "    Additional_Info    300\n",
    "    Price              368\n",
    "    dtype: int64"
   ]
  },
  {
   "cell_type": "raw",
   "id": "9e0c8488",
   "metadata": {},
   "source": [
    "# Check the values of the Additional_Info column\n",
    "print(planes['Additional_Info'].value_counts(dropna=True))"
   ]
  },
  {
   "cell_type": "raw",
   "id": "5e7ce6f1",
   "metadata": {},
   "source": [
    "No info                         6399\n",
    "In-flight meal not included     1525\n",
    "No check-in baggage included     258\n",
    "1 Long layover                    14\n",
    "Change airports                    7\n",
    "No Info                            2\n",
    "Business class                     1\n",
    "Red-eye flight                     1\n",
    "2 Long layover                     1\n",
    "Name: Additional_Info, dtype: int64"
   ]
  },
  {
   "cell_type": "raw",
   "id": "19746fd3",
   "metadata": {},
   "source": [
    "# Check the values of the Additional_Info column\n",
    "print(planes[\"Additional_Info\"].value_counts())\n",
    "\n",
    "# Create a box plot of Price by Airline\n",
    "sns.boxplot(data=planes, x='Airline', y='Price')\n",
    "\n",
    "plt.show()"
   ]
  },
  {
   "cell_type": "raw",
   "id": "4a4aa6d2",
   "metadata": {},
   "source": [
    "# Calculate median plane ticket prices by Airline\n",
    "airline_prices = planes.groupby(\"Airline\")[\"Price\"].median()\n",
    "\n",
    "print(airline_prices)"
   ]
  },
  {
   "cell_type": "raw",
   "id": "ac9714fb",
   "metadata": {},
   "source": [
    "<script.py> output:\n",
    "    Airline\n",
    "    Air Asia              5192.0\n",
    "    Air India             9443.0\n",
    "    GoAir                 5003.5\n",
    "    IndiGo                5054.0\n",
    "    Jet Airways          11507.0\n",
    "    Multiple carriers    10197.0\n",
    "    SpiceJet              3873.0\n",
    "    Vistara               8028.0\n",
    "    Name: Price, dtype: float64"
   ]
  },
  {
   "cell_type": "raw",
   "id": "ab348162",
   "metadata": {},
   "source": [
    "# Calculate median plane ticket prices by Airline\n",
    "airline_prices = planes.groupby(\"Airline\")[\"Price\"].median()\n",
    "\n",
    "print(airline_prices)\n",
    "\n",
    "# Convert to a dictionary\n",
    "prices_dict = airline_prices.to_dict()"
   ]
  },
  {
   "cell_type": "raw",
   "id": "74991e91",
   "metadata": {},
   "source": [
    "Airline\n",
    "Air Asia              5192.0\n",
    "Air India             9443.0\n",
    "GoAir                 5003.5\n",
    "IndiGo                5054.0\n",
    "Jet Airways          11507.0\n",
    "Multiple carriers    10197.0\n",
    "SpiceJet              3873.0\n",
    "Vistara               8028.0\n",
    "Name: Price, dtype: float64"
   ]
  },
  {
   "cell_type": "raw",
   "id": "0fb78bb1",
   "metadata": {},
   "source": [
    "# Calculate median plane ticket prices by Airline\n",
    "airline_prices = planes.groupby(\"Airline\")[\"Price\"].median()\n",
    "\n",
    "print(airline_prices)\n",
    "\n",
    "# Convert to a dictionary\n",
    "prices_dict = airline_prices.to_dict()\n",
    "\n",
    "# Map the dictionary to missing values of Price by Airline\n",
    "planes[\"Price\"] = planes[\"Price\"].fillna(planes[\"Airline\"].map(prices_dict))\n",
    "\n",
    "# Check for missing values\n",
    "print(planes.isna().sum())"
   ]
  },
  {
   "cell_type": "raw",
   "id": "63ae9d91",
   "metadata": {},
   "source": [
    "Airline\n",
    "Air Asia              5192.0\n",
    "Air India             9443.0\n",
    "GoAir                 5003.5\n",
    "IndiGo                5054.0\n",
    "Jet Airways          11507.0\n",
    "Multiple carriers    10197.0\n",
    "SpiceJet              3873.0\n",
    "Vistara               8028.0\n",
    "Name: Price, dtype: float64\n",
    "Airline            0\n",
    "Date_of_Journey    0\n",
    "Source             0\n",
    "Destination        0\n",
    "Route              0\n",
    "Dep_Time           0\n",
    "Arrival_Time       0\n",
    "Duration           0\n",
    "Total_Stops        0\n",
    "Price              0\n",
    "dtype: int64"
   ]
  },
  {
   "cell_type": "raw",
   "id": "403ac218",
   "metadata": {},
   "source": [
    "# Filter the DataFrame for object columns\n",
    "non_numeric = planes.select_dtypes(include='object')\n",
    "\n",
    "# Loop through columns\n",
    "for column in non_numeric.columns:\n",
    "  \n",
    "  # Print the number of unique values\n",
    "  print(f\"Number of unique values in {column} column: \", non_numeric[column].nunique())"
   ]
  },
  {
   "cell_type": "raw",
   "id": "985175e2",
   "metadata": {},
   "source": [
    "Number of unique values in Airline column:  8\n",
    "Number of unique values in Date_of_Journey column:  44\n",
    "Number of unique values in Source column:  5\n",
    "Number of unique values in Destination column:  6\n",
    "Number of unique values in Route column:  122\n",
    "Number of unique values in Dep_Time column:  218\n",
    "Number of unique values in Duration column:  362\n",
    "Number of unique values in Total_Stops column:  5\n",
    "Number of unique values in Additional_Info column:  9"
   ]
  },
  {
   "cell_type": "raw",
   "id": "ad3b3053",
   "metadata": {},
   "source": [
    "# Create a list of categories\n",
    "flight_categories = [\"Short-haul\", \"Medium\", \"Long-haul\"]"
   ]
  },
  {
   "cell_type": "raw",
   "id": "794b15a7",
   "metadata": {},
   "source": [
    "# Create a list of categories\n",
    "flight_categories = [\"Short-haul\", \"Medium\", \"Long-haul\"]\n",
    "\n",
    "# Create short_flights\n",
    "short_flights = \"^0h|^1h|^2h|^3h|^4h\"\n",
    "\n",
    "# Create medium_flights\n",
    "medium_flights = \"^5h|^6h|^7h|^8h|^9h\"\n",
    "\n",
    "# Create long_flights\n",
    "long_flights = \"10h|11h|12h|13h|14h|15h|16h\""
   ]
  },
  {
   "cell_type": "raw",
   "id": "63c8ab37",
   "metadata": {},
   "source": [
    "# Create conditions for values in flight_categories to be created\n",
    "conditions = [\n",
    "    (planes[\"Duration\"].str.contains(short_flights)),\n",
    "    (planes[\"Duration\"].str.contains(medium_flights)),\n",
    "    (planes[\"Duration\"].str.contains(long_flights))\n",
    "]\n",
    "\n",
    "# Apply the conditions list to the flight_categories\n",
    "planes[\"Duration_Category\"] = np.select(conditions, \n",
    "                                        flight_categories,\n",
    "                                        default=\"Extreme duration\")\n",
    "\n",
    "# Plot the counts of each category\n",
    "sns.countplot(data=planes, x=\"Duration_Category\")\n",
    "plt.show()"
   ]
  },
  {
   "cell_type": "raw",
   "id": "79b48b3d",
   "metadata": {},
   "source": [
    "# Preview the column\n",
    "print(planes[\"Duration\"].head())"
   ]
  },
  {
   "cell_type": "raw",
   "id": "f160d112",
   "metadata": {},
   "source": [
    "0                  19.0h\n",
    "1     5.416666666666667h\n",
    "2                  4.75h\n",
    "3    2.4166666666666665h\n",
    "4                  15.5h\n",
    "Name: Duration, dtype: object"
   ]
  },
  {
   "cell_type": "raw",
   "id": "3abe64c6",
   "metadata": {},
   "source": [
    "# Preview the column\n",
    "print(planes[\"Duration\"].head())\n",
    "\n",
    "# Remove the string character\n",
    "planes[\"Duration\"] = planes[\"Duration\"].str.replace('h', '')"
   ]
  },
  {
   "cell_type": "raw",
   "id": "725b9975",
   "metadata": {},
   "source": [
    "<script.py> output:\n",
    "    0                  19.0h\n",
    "    1     5.416666666666667h\n",
    "    2                  4.75h\n",
    "    3    2.4166666666666665h\n",
    "    4                  15.5h\n",
    "    Name: Duration, dtype: object"
   ]
  },
  {
   "cell_type": "raw",
   "id": "ffb928a2",
   "metadata": {},
   "source": [
    "# Preview the column\n",
    "print(planes[\"Duration\"].head())\n",
    "\n",
    "# Remove the string character\n",
    "planes[\"Duration\"] = planes[\"Duration\"].str.replace(\"h\", \"\")\n",
    "\n",
    "# Convert to float data type\n",
    "planes[\"Duration\"] = planes[\"Duration\"].astype(float)"
   ]
  },
  {
   "cell_type": "raw",
   "id": "106716cd",
   "metadata": {},
   "source": [
    "0                  19.0h\n",
    "1     5.416666666666667h\n",
    "2                  4.75h\n",
    "3    2.4166666666666665h\n",
    "4                  15.5h\n",
    "Name: Duration, dtype: object"
   ]
  },
  {
   "cell_type": "raw",
   "id": "c4067578",
   "metadata": {},
   "source": [
    "# Preview the column\n",
    "print(planes[\"Duration\"].head())\n",
    "\n",
    "# Remove the string character\n",
    "planes[\"Duration\"] = planes[\"Duration\"].str.replace(\"h\", \"\")\n",
    "\n",
    "# Convert to float data type\n",
    "planes[\"Duration\"] = planes[\"Duration\"].astype(float)\n",
    "\n",
    "# Plot a histogram\n",
    "sns.histplot(data=planes, x=\"Duration\", bins=10, kde=False)\n",
    "plt.show()"
   ]
  },
  {
   "cell_type": "raw",
   "id": "b00e6424",
   "metadata": {},
   "source": [
    "<script.py> output:\n",
    "    0                  19.0h\n",
    "    1     5.416666666666667h\n",
    "    2                  4.75h\n",
    "    3    2.4166666666666665h\n",
    "    4                  15.5h\n",
    "    Name: Duration, dtype: object"
   ]
  },
  {
   "cell_type": "raw",
   "id": "3c685c6f",
   "metadata": {},
   "source": [
    "# Price standard deviation by Airline\n",
    "planes[\"airline_price_st_dev\"] = planes.groupby(\"Airline\")[\"Price\"].transform(\"std\")\n",
    "\n",
    "print(planes[[\"Airline\", \"airline_price_st_dev\"]].value_counts())"
   ]
  },
  {
   "cell_type": "raw",
   "id": "3cdc9750",
   "metadata": {},
   "source": [
    "<script.py> output:\n",
    "    Airline            airline_price_st_dev\n",
    "    Jet Airways        4230.749                3685\n",
    "    IndiGo             2266.754                1981\n",
    "    Air India          3865.872                1686\n",
    "    Multiple carriers  3763.675                1148\n",
    "    SpiceJet           1790.852                 787\n",
    "    Vistara            2864.268                 455\n",
    "    Air Asia           2016.739                 309\n",
    "    GoAir              2790.815                 182\n",
    "    dtype: int64"
   ]
  },
  {
   "cell_type": "raw",
   "id": "5b45f721",
   "metadata": {},
   "source": [
    "# Median Duration by Airline\n",
    "planes[\"airline_median_duration\"] = planes.groupby(\"Airline\")[\"Duration\"].transform(\"median\")\n",
    "\n",
    "print(planes[[\"Airline\",\"airline_median_duration\"]].value_counts())"
   ]
  },
  {
   "cell_type": "raw",
   "id": "a9579082",
   "metadata": {},
   "source": [
    "Airline            airline_median_duration\n",
    "Jet Airways        13.333                     3685\n",
    "IndiGo             2.917                      1981\n",
    "Air India          15.917                     1686\n",
    "Multiple carriers  10.250                     1148\n",
    "SpiceJet           2.500                       787\n",
    "Vistara            3.167                       455\n",
    "Air Asia           2.833                       309\n",
    "GoAir              5.167                       182\n",
    "dtype: int64"
   ]
  },
  {
   "cell_type": "raw",
   "id": "9131228d",
   "metadata": {},
   "source": [
    "# Mean Price by Destination\n",
    "planes[\"price_destination_mean\"] = planes.groupby(\"Destination\")[\"Price\"].transform(\"mean\")\n",
    "\n",
    "print(planes[[\"Destination\",\"price_destination_mean\"]].value_counts())"
   ]
  },
  {
   "cell_type": "raw",
   "id": "786f5fe9",
   "metadata": {},
   "source": [
    "Destination  price_destination_mean\n",
    "Cochin       10506.993                 4391\n",
    "Banglore     9132.225                  2773\n",
    "Delhi        5157.794                  1219\n",
    "New Delhi    11738.589                  888\n",
    "Hyderabad    5025.210                   673\n",
    "Kolkata      4801.490                   369\n",
    "dtype: int64"
   ]
  },
  {
   "cell_type": "raw",
   "id": "7a95b13d",
   "metadata": {},
   "source": [
    "# Plot a histogram of flight prices\n",
    "sns.histplot(data=planes, x=\"Price\", bins=20, kde=True)\n",
    "plt.show()"
   ]
  },
  {
   "cell_type": "raw",
   "id": "09ba7a17",
   "metadata": {},
   "source": [
    "# Plot a histogram of flight prices\n",
    "sns.histplot(data=planes, x=\"Price\")\n",
    "plt.show()\n",
    "\n",
    "# Display descriptive statistics for flight duration\n",
    "print(planes[\"Duration\"].describe())"
   ]
  },
  {
   "cell_type": "raw",
   "id": "eff6df8d",
   "metadata": {},
   "source": [
    "count    10446.000\n",
    "mean        10.724\n",
    "std          8.472\n",
    "min          0.083\n",
    "25%          2.833\n",
    "50%          8.667\n",
    "75%         15.500\n",
    "max         47.667\n",
    "Name: Duration, dtype: float64"
   ]
  },
  {
   "cell_type": "raw",
   "id": "366a313e",
   "metadata": {},
   "source": [
    "# Find the 75th and 25th percentiles\n",
    "price_seventy_fifth = planes[\"Price\"].quantile(0.75)\n",
    "price_twenty_fifth = planes[\"Price\"].quantile(0.25)"
   ]
  },
  {
   "cell_type": "raw",
   "id": "454ddd20",
   "metadata": {},
   "source": [
    "# Find the 75th and 25th percentiles\n",
    "price_upper_perc = planes[\"Price\"].quantile(0.75)\n",
    "price_lower_perc = planes[\"Price\"].quantile(0.25)\n",
    "\n",
    "# Calculate iqr\n",
    "prices_iqr = price_upper_perc - price_lower_perc"
   ]
  },
  {
   "cell_type": "raw",
   "id": "b6c932cd",
   "metadata": {},
   "source": [
    "# Find the 75th and 25th percentiles\n",
    "price_seventy_fifth = planes[\"Price\"].quantile(0.75)\n",
    "price_twenty_fifth = planes[\"Price\"].quantile(0.25)\n",
    "\n",
    "# Calculate iqr\n",
    "prices_iqr = price_seventy_fifth - price_twenty_fifth\n",
    "\n",
    "# Calculate the thresholds\n",
    "upper = price_seventy_fifth + (1.5 * prices_iqr)\n",
    "lower = price_twenty_fifth - (1.5 * prices_iqr)"
   ]
  },
  {
   "cell_type": "raw",
   "id": "177ad70f",
   "metadata": {},
   "source": [
    "# Find the 75th and 25th percentiles\n",
    "price_seventy_fifth = planes[\"Price\"].quantile(0.75)\n",
    "price_twenty_fifth = planes[\"Price\"].quantile(0.25)\n",
    "\n",
    "# Calculate iqr\n",
    "prices_iqr = price_seventy_fifth - price_twenty_fifth\n",
    "\n",
    "# Calculate the thresholds\n",
    "upper = price_seventy_fifth + (1.5 * prices_iqr)\n",
    "lower = price_twenty_fifth - (1.5 * prices_iqr)\n",
    "\n",
    "# Subset the data\n",
    "planes = planes[(planes[\"Price\"] > lower) & (planes[\"Price\"] < upper)]\n",
    "\n",
    "print(planes[\"Price\"].describe())"
   ]
  },
  {
   "cell_type": "raw",
   "id": "bc8d5f75",
   "metadata": {},
   "source": [
    "<script.py> output:\n",
    "    count     9959.000\n",
    "    mean      8875.161\n",
    "    std       4057.202\n",
    "    min       1759.000\n",
    "    25%       5228.000\n",
    "    50%       8283.000\n",
    "    75%      12284.000\n",
    "    max      23001.000\n",
    "    Name: Price, dtype: float64"
   ]
  },
  {
   "cell_type": "raw",
   "id": "a5e1404a",
   "metadata": {},
   "source": [
    "# Import divorce.csv, parsing the appropriate columns as dates in the import\n",
    "divorce = pd.read_csv(\n",
    "    'divorce.csv',\n",
    "    parse_dates=['divorce_date', 'dob_man', 'dob_woman', 'marriage_date']\n",
    ")\n",
    "\n",
    "print(divorce.dtypes)"
   ]
  },
  {
   "cell_type": "raw",
   "id": "449ffb18",
   "metadata": {},
   "source": [
    "divorce_date         datetime64[ns]\n",
    "dob_man              datetime64[ns]\n",
    "education_man                object\n",
    "income_man                  float64\n",
    "dob_woman            datetime64[ns]\n",
    "education_woman              object\n",
    "income_woman                float64\n",
    "marriage_date        datetime64[ns]\n",
    "marriage_duration           float64\n",
    "num_kids                    float64\n",
    "dtype: object"
   ]
  },
  {
   "cell_type": "raw",
   "id": "608b767f",
   "metadata": {},
   "source": [
    "# Convert the marriage_date column to DateTime values\n",
    "divorce[\"marriage_date\"] = pd.to_datetime(divorce[\"marriage_date\"])"
   ]
  },
  {
   "cell_type": "raw",
   "id": "3d1f95fe",
   "metadata": {},
   "source": [
    "# Define the marriage_year column\n",
    "divorce[\"marriage_year\"] = divorce[\"marriage_date\"].dt.year"
   ]
  },
  {
   "cell_type": "raw",
   "id": "024e48d9",
   "metadata": {},
   "source": [
    "# Define the marriage_year column\n",
    "divorce[\"marriage_year\"] = divorce[\"marriage_date\"].dt.year\n",
    "\n",
    "# Create a line plot showing the average number of kids by year\n",
    "sns.lineplot(data=divorce, x=\"marriage_year\", y=\"num_kids\")\n",
    "plt.show()"
   ]
  },
  {
   "cell_type": "raw",
   "id": "fe5a4740",
   "metadata": {},
   "source": [
    "# Create the scatterplot\n",
    "sns.scatterplot(data=divorce, x=\"marriage_duration\", y=\"num_kids\")\n",
    "plt.show()"
   ]
  },
  {
   "cell_type": "raw",
   "id": "9ee31525",
   "metadata": {},
   "source": [
    "# Create a pairplot for income_woman and marriage_duration\n",
    "sns.pairplot(divorce, vars=[\"income_woman\", \"marriage_duration\"])\n",
    "plt.show()"
   ]
  },
  {
   "cell_type": "raw",
   "id": "33994c61",
   "metadata": {},
   "source": [
    "# Create the scatter plot\n",
    "sns.scatterplot(data=divorce, x=\"woman_age_marriage\", y=\"income_woman\", hue=\"education_woman\")\n",
    "plt.show()"
   ]
  },
  {
   "cell_type": "raw",
   "id": "eff93bbe",
   "metadata": {},
   "source": [
    "# Create the KDE plot\n",
    "sns.kdeplot(data=divorce, x=\"marriage_duration\", hue=\"num_kids\")\n",
    "plt.show()"
   ]
  },
  {
   "cell_type": "raw",
   "id": "7f5b1485",
   "metadata": {},
   "source": [
    "# Update the KDE plot so that marriage duration can't be smoothed too far\n",
    "sns.kdeplot(data=divorce, x=\"marriage_duration\", hue=\"num_kids\", cut=0)\n",
    "plt.show()"
   ]
  },
  {
   "cell_type": "raw",
   "id": "4457a91e",
   "metadata": {},
   "source": [
    "# Update the KDE plot to show a cumulative distribution function\n",
    "sns.kdeplot(data=divorce, x=\"marriage_duration\", hue=\"num_kids\", cut=0, cumulative=True)\n",
    "plt.show()"
   ]
  },
  {
   "cell_type": "raw",
   "id": "a6b999b2",
   "metadata": {},
   "source": [
    "# Print the relative frequency of Job_Category\n",
    "print(salaries['Job_Category'].value_counts(normalize=True))"
   ]
  },
  {
   "cell_type": "raw",
   "id": "6de6532b",
   "metadata": {},
   "source": [
    "<script.py> output:\n",
    "    Data Science        0.278\n",
    "    Data Engineering    0.273\n",
    "    Data Analytics      0.226\n",
    "    Machine Learning    0.120\n",
    "    Other               0.069\n",
    "    Managerial          0.034\n",
    "    Name: Job_Category, dtype: float64"
   ]
  },
  {
   "cell_type": "raw",
   "id": "f527f8ae",
   "metadata": {},
   "source": [
    "# Cross-tabulate Company_Size and Experience\n",
    "print(pd.crosstab(salaries[\"Company_Size\"], salaries[\"Experience\"]))"
   ]
  },
  {
   "cell_type": "raw",
   "id": "5def9178",
   "metadata": {},
   "source": [
    "Experience    EN  EX  MI   SE\n",
    "Company_Size                 \n",
    "L             24   7  49   44\n",
    "M             25   9  58  136\n",
    "S             18   1  21   15"
   ]
  },
  {
   "cell_type": "raw",
   "id": "61052a70",
   "metadata": {},
   "source": [
    "# Cross-tabulate Job_Category and Company_Size\n",
    "print(pd.crosstab(salaries[\"Job_Category\"], salaries[\"Company_Size\"]))"
   ]
  },
  {
   "cell_type": "raw",
   "id": "59a72385",
   "metadata": {},
   "source": [
    "Company_Size       L   M   S\n",
    "Job_Category                \n",
    "Data Analytics    23  61   8\n",
    "Data Engineering  28  72  11\n",
    "Data Science      38  59  16\n",
    "Machine Learning  17  19  13\n",
    "Managerial         5   8   1\n",
    "Other             13   9   6"
   ]
  },
  {
   "cell_type": "raw",
   "id": "2ae89ceb",
   "metadata": {},
   "source": [
    "# Cross-tabulate Job_Category and Company_Size\n",
    "print(salaries.groupby(['Job_Category', 'Company_Size'])['Salary_USD'].mean().unstack())"
   ]
  },
  {
   "cell_type": "raw",
   "id": "1c0d91ce",
   "metadata": {},
   "source": [
    "<script.py> output:\n",
    "    Company_Size               L           M          S\n",
    "    Job_Category                                       \n",
    "    Data Analytics    112851.749   95912.685  53741.877\n",
    "    Data Engineering  118939.035  121287.061  86927.136\n",
    "    Data Science       96489.520  116044.456  62241.749\n",
    "    Machine Learning  140779.492  100794.237  78812.586\n",
    "    Managerial        190551.449  150713.628  31484.700\n",
    "    Other              92873.911   89750.579  69871.248"
   ]
  },
  {
   "cell_type": "raw",
   "id": "c77d4984",
   "metadata": {},
   "source": [
    "# Get the month of the response\n",
    "salaries[\"month\"] = salaries[\"date_of_response\"].dt.month\n",
    "\n",
    "# Extract the weekday of the response\n",
    "salaries[\"weekday\"] = salaries[\"date_of_response\"].dt.weekday\n",
    "\n",
    "# Create a heatmap\n",
    "sns.heatmap(salaries.corr(), annot=True)\n",
    "plt.show()"
   ]
  },
  {
   "cell_type": "raw",
   "id": "9c475326",
   "metadata": {},
   "source": [
    "# Find the 25th percentile\n",
    "twenty_fifth = salaries[\"Salary_USD\"].quantile(0.25)\n",
    "\n",
    "# Save the median\n",
    "salaries_median = salaries[\"Salary_USD\"].median()\n",
    "\n",
    "# Gather the 75th percentile\n",
    "seventy_fifth = salaries[\"Salary_USD\"].quantile(0.75)\n",
    "print(twenty_fifth, salaries_median, seventy_fifth)"
   ]
  },
  {
   "cell_type": "raw",
   "id": "d2fc7ffa",
   "metadata": {},
   "source": [
    "60880.691999999995 97488.552 143225.1"
   ]
  },
  {
   "cell_type": "raw",
   "id": "2b53c93d",
   "metadata": {},
   "source": [
    "# Create salary labels\n",
    "salary_labels = [\"entry\", \"mid\", \"senior\", \"exec\"]"
   ]
  },
  {
   "cell_type": "raw",
   "id": "db263e23",
   "metadata": {},
   "source": [
    "# Create salary labels\n",
    "salary_labels = [\"entry\", \"mid\", \"senior\", \"exec\"]\n",
    "\n",
    "# Create the salary ranges list\n",
    "salary_ranges = [0, twenty_fifth, salaries_median, seventy_fifth, salaries[\"Salary_USD\"].max()]"
   ]
  },
  {
   "cell_type": "raw",
   "id": "f03c315c",
   "metadata": {},
   "source": [
    "# Create salary labels\n",
    "salary_labels = [\"entry\", \"mid\", \"senior\", \"exec\"]\n",
    "\n",
    "# Create the salary ranges list\n",
    "salary_ranges = [0, twenty_fifth, salaries_median, seventy_fifth, salaries[\"Salary_USD\"].max()]\n",
    "\n",
    "# Create salary_level\n",
    "salaries[\"salary_level\"] = pd.cut(\n",
    "    salaries[\"Salary_USD\"],\n",
    "    bins=salary_ranges,\n",
    "    labels=salary_labels\n",
    ")"
   ]
  },
  {
   "cell_type": "raw",
   "id": "d1f93b37",
   "metadata": {},
   "source": [
    "# Create salary labels\n",
    "salary_labels = [\"entry\", \"mid\", \"senior\", \"exec\"]\n",
    "\n",
    "# Create the salary ranges list\n",
    "salary_ranges = [0, twenty_fifth, salaries_median, seventy_fifth, salaries[\"Salary_USD\"].max()]\n",
    "\n",
    "# Create salary_level\n",
    "salaries[\"salary_level\"] = pd.cut(salaries[\"Salary_USD\"],\n",
    "                                  bins=salary_ranges,\n",
    "                                  labels=salary_labels)\n",
    "\n",
    "# Plot the count of salary levels at companies of different sizes\n",
    "sns.countplot(data=salaries, x=\"Company_Size\", hue=\"salary_level\")\n",
    "plt.show()"
   ]
  },
  {
   "cell_type": "raw",
   "id": "91a286e1",
   "metadata": {},
   "source": [
    "# Filter for employees in the US or GB\n",
    "usa_and_gb = salaries[salaries[\"Employee_Location\"].isin([\"US\", \"GB\"])]\n",
    "\n",
    "# Create a barplot of salaries by location\n",
    "sns.barplot(data=usa_and_gb, x=\"Employee_Location\", y=\"Salary_USD\")\n",
    "plt.show()"
   ]
  },
  {
   "cell_type": "raw",
   "id": "758b83cb",
   "metadata": {},
   "source": [
    "# Create a bar plot of salary versus company size, factoring in employment status\n",
    "sns.barplot(data=salaries, x=\"Company_Size\", y=\"Salary_USD\", hue=\"Employment_Status\")\n",
    "plt.show()"
   ]
  },
  {
   "cell_type": "raw",
   "id": "55f3f03b",
   "metadata": {},
   "source": [
    "import seaborn as sns\n",
    "import matplotlib.pyplot as plt\n",
    "\n",
    "# Create a bar plot of salary versus company size, factoring in employment status\n",
    "sns.barplot(data=salaries, x=\"Company_Size\", y=\"Salary_USD\", hue=\"Employment_Status\")\n",
    "plt.show()\n"
   ]
  },
  {
   "cell_type": "code",
   "execution_count": null,
   "id": "a96407fc",
   "metadata": {},
   "outputs": [],
   "source": []
  }
 ],
 "metadata": {
  "kernelspec": {
   "display_name": "Python 3 (ipykernel)",
   "language": "python",
   "name": "python3"
  },
  "language_info": {
   "codemirror_mode": {
    "name": "ipython",
    "version": 3
   },
   "file_extension": ".py",
   "mimetype": "text/x-python",
   "name": "python",
   "nbconvert_exporter": "python",
   "pygments_lexer": "ipython3",
   "version": "3.11.7"
  }
 },
 "nbformat": 4,
 "nbformat_minor": 5
}
